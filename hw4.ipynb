{
 "cells": [
  {
   "cell_type": "markdown",
   "metadata": {},
   "source": [
    "# 548 hw4 due 11:59p Mon Jan 30 on Canvas\n",
    "You are welcome (and encouraged) to work with others, but each individual must submit their own writeup.\n",
    "\n",
    "You are welcome to use analytical and numerical computational tools; if you do, include the **commented** sourcecode in your writeup (e.g. the .ipynb file)."
   ]
  },
  {
   "cell_type": "markdown",
   "metadata": {},
   "source": [
    "# parametric control (Stengel Ex. 3.3-1)\n",
    "\n",
    "A cart slides frictionlessly along a horizontal surface under the influence of an applied force:\n",
    "$$\\ddot{x} = u.$$\n",
    "Your task is to choose $u$ to move the cart from $a$ to $b$ in $t$ time units starting from rest while minimizing the effort applied.\n",
    "\n",
    "a. Minimize\n",
    "$$q(x(t) - b)^2 + r\\int_{0}^t u(s)^2 ds$$\n",
    "with $u$ constant assuming $q,r > 0$.\n",
    "\n",
    "b. Minimize the cost from (a.) with $u$ a linear function of time.\n",
    "\n",
    "c. Minimize\n",
    "$$q(x(t) - b)^2 + \\dot{q}\\dot{x}(t)^2 + r\\int_{0}^t u(s)^2 ds$$\n",
    "with $u$ a linear function of time assuming $q,\\dot{q},r > 0$.\n",
    "\n",
    "d. Minimize the cost from (c.) with $u(s)$ a linear combination of $\\cos\\nu s$ and $\\sin\\omega s$.\n",
    "\n",
    "e. Compare your answers to (a.--d.) with the tables provided in Example 3.3-1 in Stengel.  Note any discrepancies."
   ]
  },
  {
   "cell_type": "markdown",
   "metadata": {},
   "source": [
    "# descent algorithms\n",
    "\n",
    "a. Implement a numerical algorithm that returns the (Jacobian) derivative of a given function $g:\\mathbb{R}^n\\rightarrow\\mathbb{R}^m$ at a given point $x\\in\\mathbb{R}^n$.\n",
    "\n",
    "b. Generate a test suite that validates your algorithm.  Explain why this test suite is comprehensive.\n",
    "\n",
    "c. Implement a numerical algorithm that performs one step of steepest descent on a given cost function $J:\\mathbb{R}^n\\rightarrow\\mathbb{R}$ from a given $x\\in\\mathbb{R}^n$.  If the user doesn't provide $DJ$, approximate it using the algorithm from (a.).\n",
    "\n",
    "d. Implement a numerical algorithm that performs one step of Newton-Raphson descent on a given cost function $J:\\mathbb{R}^n\\rightarrow\\mathbb{R}$ from a given $x\\in\\mathbb{R}^n$.  If the user doesn't provide $DJ$ or $D^2 J$, approximate them using the algorithm from (a.).\n",
    "\n",
    "e. Generate a test suite that validates your algorithms from (c.), (d.).  You must include a cost that is not a quadratic form in your test suite."
   ]
  }
 ],
 "metadata": {
  "kernelspec": {
   "display_name": "Python [Root]",
   "language": "python",
   "name": "Python [Root]"
  },
  "language_info": {
   "codemirror_mode": {
    "name": "ipython",
    "version": 2
   },
   "file_extension": ".py",
   "mimetype": "text/x-python",
   "name": "python",
   "nbconvert_exporter": "python",
   "pygments_lexer": "ipython2",
   "version": "2.7.12"
  }
 },
 "nbformat": 4,
 "nbformat_minor": 0
}
