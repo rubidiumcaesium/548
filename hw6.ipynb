{
 "cells": [
  {
   "cell_type": "markdown",
   "metadata": {},
   "source": [
    "# 548 hw6 due 11:59p Mon Feb 20 on Canvas\n",
    "You are welcome (and encouraged) to work with others, but each individual must submit their own writeup.\n",
    "\n",
    "You are welcome to use analytical and numerical computational tools; if you do, include the **commented** sourcecode in your writeup (e.g. the .ipynb file)."
   ]
  },
  {
   "cell_type": "markdown",
   "metadata": {},
   "source": [
    "# LQR\n",
    "\n",
    "a. Implement a numerical algorithm that solves the LQR problem given $\\{(A(s), B(s), Q(s), R(s))\\}_{s=0}^t$ and $P_t$.  (You may solve either the CT-LQR or DT-LQR problem.)\n",
    "\n",
    "b. Generate a test suite that validates your algorithm from (a.).  Explain why this test suite is comprehensive.\n",
    "\n",
    "c. Apply your algorithm from (a.) to the second-order spring-mass-damper system \n",
    "$$\\left[\\begin{array}{c} \\dot{x}_1 \\\\ m \\dot{x}_2 \\end{array}\\right] \n",
    "= \\left[\\begin{array}{cc} 0 & 1 \\\\ -\\kappa & -\\beta \\end{array}\\right] \n",
    "\\left[\\begin{array}{c} x_1 \\\\ x_2 \\end{array}\\right] + \\left[\\begin{array}{c} 0 \\\\ u \\end{array}\\right]$$\n",
    "with cost\n",
    "$$\\frac{1}{2} \\sum_{s=0}^t r u^2 + \\kappa x_1^2 + m x_2^2$$\n",
    "using $m = 1, \\kappa = 10, \\beta = 2$ from $x_1(0) = .5, x_2(0) = 0.$ for time $t = 10$sec.  Provide plots of the states versus time, and the numerical value of the optimal cost."
   ]
  },
  {
   "cell_type": "markdown",
   "metadata": {},
   "source": [
    "# project system\n",
    "\n",
    "a. Choose a time horizon and solve the LQR problem for your project system using your algorithm from the preceding problem for $n$ linearly independent initial conditions near your \"interesting\" equilibrium.  Provide plots of $J$ versus time.\n",
    "\n",
    "b. Compare the result of the LQR computation from (a.) with the result of applying a descent algorithm.  Plot the norm of the difference between the two inputs versus time.\n",
    "\n",
    "c. Choose a time horizon and solve the LQR problem for your project system using your algorithm from the preceding problem for $n$ linearly independent initial conditions near your \"interesting\" nonequilibrium trajectory.  Provide plots of $J$ versus time.\n",
    "\n",
    "d. Compare the result of the LQR computation from (c.) with the result of applying a descent algorithm.  Plot the norm of the difference between the two inputs versus time.\n",
    "\n",
    "e. Explain qualitatively how you expect the plots in (a.--d.) to look.  Do they look this way?  If not, explain where you may have made an error in analysis or computation (and try to fix this error)."
   ]
  }
 ],
 "metadata": {
  "anaconda-cloud": {},
  "kernelspec": {
   "display_name": "Python [Root]",
   "language": "python",
   "name": "Python [Root]"
  },
  "language_info": {
   "codemirror_mode": {
    "name": "ipython",
    "version": 2
   },
   "file_extension": ".py",
   "mimetype": "text/x-python",
   "name": "python",
   "nbconvert_exporter": "python",
   "pygments_lexer": "ipython2",
   "version": "2.7.12"
  }
 },
 "nbformat": 4,
 "nbformat_minor": 0
}
