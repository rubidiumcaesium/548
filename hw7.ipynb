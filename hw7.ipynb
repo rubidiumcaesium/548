{
 "cells": [
  {
   "cell_type": "markdown",
   "metadata": {},
   "source": [
    "# 548 hw7 due 11:59p Mon Feb 27 on Canvas\n",
    "You are welcome (and encouraged) to work with others, but each individual must submit their own writeup.\n",
    "\n",
    "You are welcome to use analytical and numerical computational tools; if you do, include the **commented** sourcecode in your writeup (e.g. the .ipynb file)."
   ]
  },
  {
   "cell_type": "markdown",
   "metadata": {},
   "source": [
    "# discrete random variables\n",
    "The following questions deal with a standard 52-card deck of playing cards (i.e. without \"jokers\") (refer to https://en.wikipedia.org/wiki/Standard_52-card_deck if you are unfamiliar)\n",
    "\n",
    "a. How many possible card orderings are there?\n",
    "\n",
    "For the remaining questions assume that, when we shuffle the cards, each possible card ordering from (a.) is equally likely.\n",
    "(refer to https://en.wikipedia.org/wiki/Shuffling if you are unfamiliar)\n",
    "\n",
    "b. What is the probability that two shuffles produce the same card ordering?\n",
    "\n",
    "c. If you shuffle then draw the top 5 cards, what is the probability that you drew 4 aces?\n",
    "\n",
    "d. Are the sample spaces the same for (b.) and (c.)?  What are the sample spaces?\n",
    "\n",
    "For the remaining questions, assign the 13 cards in each suit the numerical values 1-10 as follows:  A : 1; 2 thru 10: their numerical value; J, Q, K: 10.\n",
    "\n",
    "e. If you shuffle then draw the top card, what is your expected numerical value?\n",
    "\n",
    "f. If you shuffle, draw the top card and record its numerical value, return this card to the deck, shuffle, then draw the top card and average its numerical value with the top card from the previous shuffle, what is your expected numerical value?  \n",
    "\n",
    "g. Are the sample spaces the same for (e.) and (f.)?  What are the sample spaces?"
   ]
  },
  {
   "cell_type": "markdown",
   "metadata": {},
   "source": [
    "# hybrid random variables\n",
    "Consider the random variable $x:\\Omega\\rightarrow\\mathbb{R}$ obtained from a standard normal random variable $y:\\Omega\\rightarrow\\mathbb{R}$ as follows:\n",
    "$$\\forall\\omega\\in\\Omega : x(\\omega) = y(\\omega)\\ \\text{if}\\ y(\\omega) > 0,\\ \\text{otherwise}\\ 0.$$\n",
    "\n",
    "a. Does $x$ have a probability density function?\n",
    "\n",
    "b. Provide an analytical expression and numerical value for $E[x]$ (the analytical expression can involve an improper integral)."
   ]
  },
  {
   "cell_type": "markdown",
   "metadata": {},
   "source": [
    "# linear least-squares\n",
    "We sample a signal $y:[t_0,t_f]\\rightarrow\\mathbb{R}$ at times $\\left\\{ t_j \\right\\}_{j=1}^N\\subset[t_0,t_f]$, and seek to represent the signal as a linear combination of basis elements\n",
    "$$y(t) \\approx \\sum_{b\\in B} c_b \\cdot b(t)$$\n",
    "where $B$ is a finite set with $|B| = k$ elements, each $b\\in B$ is a signal $b:[t_0,t_f]\\rightarrow\\mathbb{R}$, and at each $t_j$ we obtain a noisy observation\n",
    "$$z_j = y(t_j) + \\eta_j$$\n",
    "where $\\eta_j\\in\\mathbb{R}$ is unknown \"noise\".\n",
    "\n",
    "a. Formulate this as a linear estimation problem of the form\n",
    "$$z = H c + \\eta$$\n",
    "where $z,\\eta\\in\\mathbb{R}^N$, $c\\in\\mathbb{R}^k$, $H\\in\\mathbb{R}^{N\\times k}$ (i.e. specify the entries in the vectors $z, c, \\eta$ and matrix $H$ in terms of the problem data).\n",
    "\n",
    "b. Write a numerical algorithm that takes $\\left\\{ t_j \\right\\}_{j=1}^N$, $\\left\\{ z_j \\right\\}_{j=1}^N$, and $B$ as arguments and returns the linear least-squares estimate $\\hat{c}$ that minimizes the cost function\n",
    "$$J = (z - H \\hat{c})^T (z - H\\hat{c}).$$\n",
    "\n",
    "c. Apply your function from (b.) to the dataset Canvas/Files/data/hw3p5c.csv using the basis $B = \\{1,t,t^2,t^3,t^4\\}$; provide the numerical values for the estimate $\\hat{c}$ as well as a plot illustrating the fit overlaid on the raw data.\n",
    "\n",
    "d. Apply your function from (b.) to the dataset Canvas/Files/data/hw3p5d.csv using the basis $B = \\{1,\\sin(t),\\cos(t),\\sin(2t),\\cos(2t)\\}$; provide the numerical values for the estimate $\\hat{c}$ as well as a plot illustrating the fit overlaid on the raw data.\n",
    "\n",
    "e. Apply your function from (b.) to the dataset Canvas/Files/data/hw3p5e.csv using the bases from (c.) and (d.); provide the numerical values for the estimate $\\hat{c}$, a plot illustrating the fits overlaid on the raw data, and comment on which basis provides a better fit."
   ]
  }
 ],
 "metadata": {
  "anaconda-cloud": {},
  "kernelspec": {
   "display_name": "Python [Root]",
   "language": "python",
   "name": "Python [Root]"
  },
  "language_info": {
   "codemirror_mode": {
    "name": "ipython",
    "version": 2
   },
   "file_extension": ".py",
   "mimetype": "text/x-python",
   "name": "python",
   "nbconvert_exporter": "python",
   "pygments_lexer": "ipython2",
   "version": "2.7.12"
  }
 },
 "nbformat": 4,
 "nbformat_minor": 0
}
