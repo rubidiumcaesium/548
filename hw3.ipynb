{
 "cells": [
  {
   "cell_type": "markdown",
   "metadata": {},
   "source": [
    "# 548 hw3 due 11:59p Mon Jan 23 on Canvas\n",
    "You are welcome (and encouraged) to work with others, but each individual must submit their own writeup.\n",
    "\n",
    "You are welcome to use analytical and numerical computational tools; if you do, include the **commented** sourcecode in your writeup (e.g. the .ipynb file)."
   ]
  },
  {
   "cell_type": "markdown",
   "metadata": {},
   "source": [
    "# optimization (Stengel 2.1.2)\n",
    "Find the stationary points of the following and determine if they are maxima or minima; if neither, describe how the cost varies locally:\n",
    "\n",
    "a. $J:\\mathbb{R}^2\\rightarrow\\mathbb{R}$ defined by $J(u) = (u_1^2 + 3 u_1 - 4)(u_2^2 - u_2 + 6)$\n",
    "\n",
    "b. $J(u)$ as in (a), subject to the equality constraint $f(u) = u_1 - 2u_2 = 0$."
   ]
  },
  {
   "cell_type": "markdown",
   "metadata": {},
   "source": [
    "# dynamic optimization\n",
    "\n",
    "a. Minimize\n",
    "$$x^T Q x + u^T R u + x_+^T P x_+$$\n",
    "with respect to $u\\in\\mathbb{R}^m$ subject to the constraint\n",
    "$$x_+ = A x + B u,$$\n",
    "where $x,x_+\\in\\mathbb{R}^n$, $Q = Q^T > 0$, $R = R^T > 0$, $P = P^T > 0$ (i.e. determine the minimizing $u$).\n",
    "\n",
    "b. Why do you know your solution from (a.) is a strict local minimizer?\n",
    "\n",
    "c. How does $u$ depend on $x$?"
   ]
  },
  {
   "cell_type": "markdown",
   "metadata": {},
   "source": [
    "# project system\n",
    "\n",
    "a. Specify a cost function $J$, and explain in plain language what control objective is achieved if $J$ is minimized.  ($J$ must depend on both the state and input, and be $C^2$).\n",
    "\n",
    "b. Compute the second-order approximation $\\tilde{J}$ to your cost function $J$  about the \"interesting\" equilibrium from hw2.  Provide this second-order approximation.\n",
    "\n",
    "c. Choose a perturbation direction and evaluate both $J$ and $\\tilde{J}$  along 10--100 trajectories initialized along the perturbation direction.  Provide a plot of $J$ and $\\tilde{J}$ versus the perturbation magnitude.\n",
    "\n",
    "d. Compute the second-order approximation $\\tilde{J}$ to your cost function about the \"interesting\" nonequilibrium trajectory from hw2.  Provide a numerical algorithm that evaluates this second-order approximation at a given timepoint along the trajectory. \n",
    "\n",
    "e. Choose a perturbation direction and evaluate both $J$ and $\\tilde{J}$  along 10--100 trajectories initialized along the perturbation direction.  Provide a plot of $J$ and $\\tilde{J}$ versus the perturbation magnitude.\n",
    "\n",
    "f. Explain qualitatively how you expect the plots in (c.) and (e.) to look.  Do they look this way?  If not, explain where you have made an error in analysis, computation, or understanding, and try to fix this error."
   ]
  }
 ],
 "metadata": {
  "kernelspec": {
   "display_name": "Python 2",
   "language": "python",
   "name": "python2"
  },
  "language_info": {
   "codemirror_mode": {
    "name": "ipython",
    "version": 2
   },
   "file_extension": ".py",
   "mimetype": "text/x-python",
   "name": "python",
   "nbconvert_exporter": "python",
   "pygments_lexer": "ipython2",
   "version": "2.7.10"
  }
 },
 "nbformat": 4,
 "nbformat_minor": 0
}
