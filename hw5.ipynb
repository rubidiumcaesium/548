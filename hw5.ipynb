{
 "cells": [
  {
   "cell_type": "markdown",
   "metadata": {},
   "source": [
    "# 548 hw5 due 11:59p Mon Feb 13 on Canvas\n",
    "You are welcome (and encouraged) to work with others, but each individual must submit their own writeup.\n",
    "\n",
    "You are welcome to use analytical and numerical computational tools; if you do, include the **commented** sourcecode in your writeup (e.g. the .ipynb file)."
   ]
  },
  {
   "cell_type": "markdown",
   "metadata": {},
   "source": [
    "# dynamic programming\n",
    "\n",
    "Consider the multi-stage optimization problem\n",
    "$$\\min J_\\tau(x,u) = \\sum_{s=\\tau}^t q x(s)^2 + r u(s)^2\\ \\text{s.t.}\\ x^+ = ax + bu,\\ x\\in\\mathbb{R}.$$\n",
    "Assume $r > 0$.\n",
    "\n",
    "a. Determine the optimal input and value at $\\tau = t$.\n",
    "\n",
    "b. Determine the optimal input and value at $\\tau = t-1$.\n",
    "\n",
    "c. Recognizing that the optimal value in (b.) has the same algebraic form as in (a.), determine the optimal input and value at an arbitrary $\\tau\\in[0,t]$.\n",
    "\n",
    "Now assume $a,b \\ne 0$, $q > 0$.\n",
    "\n",
    "d. Determine the optimal value at $\\tau = 0$ as $t\\rightarrow\\infty$.\n",
    "\n",
    "e. Determine what happens to $x$ as $t\\rightarrow\\infty$."
   ]
  },
  {
   "cell_type": "markdown",
   "metadata": {},
   "source": [
    "# project system\n",
    "\n",
    "a. Specify a quadratic cost function $J$ that has a strict local minimum  at the \"interesting\" equilibrium from hw2 ($J$ must be quadratic in both the state and input).\n",
    "\n",
    "b. Choose a perturbation direction and apply your steepest descent algorithm from hw4 to synthesize optimal control inputs for ~10 trajectories initialized along the perturbation direction.  Provide plots of $J$ versus the perturbation magnitude, and a plot of the norm of the states (relative to the equilibrium) versus time, both before and after optimization.\n",
    "\n",
    "c. Specify a quadratic cost function $J$ that has a strict local minimum  along the \"interesting\" nonequilibrium trajectory from hw2 ($J$ must be quadratic in both the state and input).\n",
    "\n",
    "d. Choose a perturbation direction and apply your steepest descent algorithm from hw4 to synthesize optimal control inputs for ~10 trajectories initialized along the perturbation direction.  Provide a plot of $J$ versus the perturbation magnitude, and a plot of the norm of the state (relative to the nonequilibrium trajectory) versus time, both before and after optimization.\n",
    "\n",
    "e. Explain qualitatively how you expect the plots in (b.) and (d.) to look.  Do they look this way?  If not, explain where you may have made an error in analysis, computation, or understanding, and try to fix this error."
   ]
  }
 ],
 "metadata": {
  "anaconda-cloud": {},
  "kernelspec": {
   "display_name": "Python [Root]",
   "language": "python",
   "name": "Python [Root]"
  },
  "language_info": {
   "codemirror_mode": {
    "name": "ipython",
    "version": 2
   },
   "file_extension": ".py",
   "mimetype": "text/x-python",
   "name": "python",
   "nbconvert_exporter": "python",
   "pygments_lexer": "ipython2",
   "version": "2.7.12"
  }
 },
 "nbformat": 4,
 "nbformat_minor": 0
}
