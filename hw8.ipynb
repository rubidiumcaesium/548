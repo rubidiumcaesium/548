{
 "cells": [
  {
   "cell_type": "markdown",
   "metadata": {},
   "source": [
    "# 548 hw8 due 11:59p Mon March 6 on Canvas\n",
    "You are welcome (and encouraged) to work with others, but each individual must submit their own writeup.\n",
    "\n",
    "You are welcome to use analytical and numerical computational tools; if you do, include the **commented** sourcecode in your writeup (e.g. the .ipynb file)."
   ]
  },
  {
   "cell_type": "markdown",
   "metadata": {},
   "source": [
    "# simulating correlated noise\n",
    "\n",
    "Let $w$ be a random variable.\n",
    "\n",
    "The *sample covariance* $\\Sigma_N$ associated with a dataset $\\left\\{w_j\\right\\}_{j=1}^N\\subset\\mathbb{R}^k$ of outcomes from $w$ is defined by\n",
    "$$\\Sigma_N = \\frac{1}{N-1}\\sum_{j=1}^N(w_j - \\bar{w}_N)(w_j - \\bar{w}_N)^T$$\n",
    "where $\\bar{w}$ denotes the *sample mean*\n",
    "$$\\bar{w}_N = \\frac{1}{N}\\sum_{j=1}^Nw_j.$$\n",
    "\n",
    "a. Assuming that the samples are independent and identically distributed according to $P_w$, determine $\\Sigma = \\lim_{N\\rightarrow\\infty}\\Sigma_N$ and $\\bar{w} = \\lim_{N\\rightarrow\\infty}\\bar{w}_N$.\n",
    "\n",
    "b. For several choices of $k$ and $N$, generate datasets $\\left\\{w_j\\right\\}_{j=1}^N\\subset\\mathbb{R}^k$ where each component of $w_j$ is drawn independently from a standard scalar Gaussian distribution.  Compute the sample mean and sample covariance.  \n",
    "\n",
    "How big does $N$ need to be so that the sample mean and covariance agree with the true mean and covariance to one decimal place in your experiments when $k = 2$?\n",
    "\n",
    "**Hint:** you need only specify an order of magnitude for $N$; you will use this $N$ in the remainder of this problem.\n",
    "\n",
    "c. Compute the sample mean and covariance for a new dataset $\\left\\{S w_j\\right\\}_{j=1}^N\\subset\\mathbb{R}^2$ where the $w_j$'s are generated as in (b.) and\n",
    "$$S = \\left[\\begin{array}{cc} 1 & 2 \\\\ 3 & 4 \\end{array}\\right].$$\n",
    "\n",
    "d. How does $\\Sigma$ relate to $S$?\n",
    "\n",
    "e. Suppose now that you wish to generate samples from a Gaussian random vector with covariance $Q = Q^T > 0$.  Based on your answer to (d.), (i) propose a computational procedure and (ii) apply your procedure with\n",
    "$$Q = \\left[\\begin{array}{cc} 1 & 2 \\\\ 2 & 4 \\end{array}\\right].$$"
   ]
  },
  {
   "cell_type": "markdown",
   "metadata": {},
   "source": [
    "# kalman filter\n",
    "\n",
    "a. Implement the Kalman filter.\n",
    "\n",
    "Since you will need this for both this Homework and your Project, I suggest the following structure:"
   ]
  },
  {
   "cell_type": "code",
   "execution_count": 1,
   "metadata": {
    "collapsed": true
   },
   "outputs": [],
   "source": [
    "def kalman_filter(x0,P0,A,B,u,F,Q,H,R,t_,z_):\n",
    "  \"\"\"\n",
    "  input:\n",
    "    x0 - n x 1 array; initial state mean\n",
    "    P0 - n x n array; initial state covariance\n",
    "    A - func : t -> n x n array; state transition\n",
    "    B - func : t -> n x m array; control input matrix\n",
    "    u - func : t -> m x 1 array; control input\n",
    "    F - func : t -> n x k array; disturbance matrix\n",
    "    Q - func : t -> k x k array; disturbance covariance\n",
    "    H - func : t -> l x n array; measurement matrix\n",
    "    R - func : t -> l x l array; measurement covariance\n",
    "    t_ - N array; times\n",
    "    z_ - l x N array; observations\n",
    "\n",
    "  output:\n",
    "    x_ - n x N array; estimated state\n",
    "    P_ - n x n x N array; estimate covariance\n",
    "  \"\"\"\n",
    "  x_ = [x0]; P_ = [P0]\n",
    "  for t,zt in zip(t_,z_):\n",
    "    # ...\n",
    "    x_.append(xt)\n",
    "    P_.append(Pt)\n",
    "  return np.hstack(x_),np.dstack(P_)"
   ]
  },
  {
   "cell_type": "markdown",
   "metadata": {},
   "source": [
    "b. Test the Kalman filter.\n",
    "\n",
    "Design and implement tests of your code.  Provide details for the reasoning behind your tests, as well as summary statistics or plots that convince you that the tests passed.\n",
    "\n",
    "**Hint:**  to perform a general test of your code, you will need to make use of your answer to the preceding problem.\n",
    "\n",
    "c. Apply the Kalman filter to the linearized pendulum dataset Canvas/Files/data/hw4p3tuz.csv; the first column is time, the next column contains the input, and the last column contains the position measurement.\n",
    "\n",
    "The system's nonlinear dynamics are given by\n",
    "$$ml^2\\ddot{a} = -mlg \\sin(a) + \\tau$$\n",
    "where $a$ is pendulum angle, $l$ is rod length, $m$ is pendulum mass, $g$ is force due to gravity, and $\\tau$ is an input torque arising from a motor attached to the rod at its pivot point.\n",
    "\n",
    "    [1]: https://en.wikipedia.org/wiki/Pendulum_(mathematics)\n",
    "\n",
    "Linearize the system about its stable equilibrium to obtain a (CLTI) system, making use of the following parameters:"
   ]
  },
  {
   "cell_type": "code",
   "execution_count": 1,
   "metadata": {
    "collapsed": true
   },
   "outputs": [],
   "source": [
    "g,length,mass = 9.81,.5,1. # m/sec^2, m, kg"
   ]
  },
  {
   "cell_type": "markdown",
   "metadata": {},
   "source": [
    "Perform exact discretization of this (CLTI) system to obtain a (DT-LTI) system with stepsize $\\Delta = .1$sec.\n",
    "\n",
    "The measurement variance is .1rad, and the disturbance variance is .2Nm.\n",
    "\n",
    "The initial distribution is specified by the mean and covariance"
   ]
  },
  {
   "cell_type": "code",
   "execution_count": 2,
   "metadata": {
    "collapsed": true
   },
   "outputs": [],
   "source": [
    "mu0 = [[-0.14415834],[ 0.23380803]]\n",
    "Sigma0 = [[ 0.1, 0. ],[ 0., 1. ]]"
   ]
  },
  {
   "cell_type": "markdown",
   "metadata": {},
   "source": [
    "Provide a plot showing the result of applying your Kalman filter routine to the dataset provided."
   ]
  },
  {
   "cell_type": "markdown",
   "metadata": {},
   "source": [
    "# project system\n",
    "\n",
    "To gain hands-on experience with computational techniques from the course, you must select a continuous-time, nonlinear control system in state space form to work with throughout the quarter; we'll refer to this as your *Project system*.\n",
    "\n",
    "**You are welcome to continue your Project from 547, but each individual must have a unique project system.**\n",
    "\n",
    "a. Choose (constant) disturbance and measurement noise covariance matrices for the (DT-LTI) system obtained by linearizing your project system at an \"interesting\" equilibrium.  Explain why these are appropriate in the context of your application domain.\n",
    "\n",
    "b. Choose (time-varying) disturbance and measurement noise covariance matrices for the (DT-LTV) system obtained by linearizing your project system along an \"interesting\" trajectory.  Explain why this is appropriate in the context of your application domain."
   ]
  }
 ],
 "metadata": {
  "anaconda-cloud": {},
  "kernelspec": {
   "display_name": "Python 2",
   "language": "python",
   "name": "python2"
  },
  "language_info": {
   "codemirror_mode": {
    "name": "ipython",
    "version": 2
   },
   "file_extension": ".py",
   "mimetype": "text/x-python",
   "name": "python",
   "nbconvert_exporter": "python",
   "pygments_lexer": "ipython2",
   "version": "2.7.10"
  }
 },
 "nbformat": 4,
 "nbformat_minor": 0
}
