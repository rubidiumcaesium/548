{
 "cells": [
  {
   "cell_type": "markdown",
   "metadata": {},
   "source": [
    "# 548 hw2 due 11:59p Mon Jan 16 on Canvas\n",
    "You are welcome (and encouraged) to work with others, but each individual must submit their own writeup.\n",
    "\n",
    "You are welcome to use analytical and numerical computational tools; if you do, include the **commented** sourcecode in your writeup (e.g. the .ipynb file)."
   ]
  },
  {
   "cell_type": "markdown",
   "metadata": {
    "collapsed": true
   },
   "source": [
    "# quadratic form\n",
    "Let $f : \\mathbb{R}^n \\rightarrow \\mathbb{R}$ be defined by\n",
    "$$\\forall x\\in\\mathbb{R}^n : f(x) = \\alpha + b x + x^T C x.$$\n",
    "\n",
    "a. What are the possible shapes of $\\alpha$, $b$, and $C$?\n",
    "\n",
    "b. Compute $Df(x)$.\n",
    "\n",
    "c. Assuming $C$ is symmetric and invertible, determine $x_0\\in\\mathbb{R}^n$ such that $Df(x_0) = 0$.\n",
    "\n",
    "d. Compute $D^2 f(x)$."
   ]
  },
  {
   "cell_type": "markdown",
   "metadata": {},
   "source": [
    "# project system\n",
    "\n",
    "To gain hands-on experience with computational techniques from the course, you must select a continuous-time, nonlinear control system in state space form to work with throughout the quarter; we'll refer to this as your *Project system*.\n",
    "\n",
    "**You are welcome to continue your Project from 547, but each individual must have a unique project system.**\n",
    "\n",
    "a. Add your project to the Canvas/Collaborations/Projects document; list any projects that sound similar in your HW2 writeup so the teaching staff can intervene as needed.\n",
    "\n",
    "b. Write an DE control system model for the system's dynamics in the form $\\dot{x}/x^+ = f(x,u),\\ y = h(x,u)$. (specify the states $x$ and inputs $u$; $f$ must be nonlinear; both $f$ and $h$ must be $C^1$; $f$ must couple the dynamics of all the states)\n",
    "\n",
    "c. What disturbances could affect the system's dynamics?\n",
    "\n",
    "d. What noise could affect the system's output?\n",
    "\n",
    "e. Specify an \"interesting\" equilibrium (i.e. $x_0\\in\\mathbb{R}^n$ and nominal input $u_0\\in\\mathbb{R}^m$), and explain in plain language why this equilibrium is interesting in the context of your application domain.\n",
    "\n",
    "f. Specify an \"interesting\" nonequilibrium trajectory (i.e. $x:[t_0,t_f]\\rightarrow\\mathbb{R}^n$ and nominal input $u:[t_0,t_f]\\rightarrow\\mathbb{R}^m$), provide a plot of the input and state vs time from a simulation of this trajectory, and explain in plain language why this trajectory is interesting in the context of your application domain.\n",
    "\n",
    "g. Linearize your project system about the \"interesting\" equilibrium from hw2 to obtain a (LTI) system of the form\n",
    "$$\\dot{\\xi} = A \\xi + B \\mu,\\ \\eta = C\\xi + D\\mu.$$\n",
    "Provide the matrices that define this linearization.\n",
    "\n",
    "h. Linearize your project system about the \"interesting\" nonequilibrium trajectory from hw2 to obtain a (LTV) system of the form\n",
    "$$\\dot{\\xi}(t) = A(t) \\xi(t) + B(t) \\mu(t),\\ \\eta(t) = C(t)\\xi(t) + D(t)\\mu(t).$$\n",
    "Provide a computational routine that returns the matrices that define this linearization at a given timepoint $t$. "
   ]
  }
 ],
 "metadata": {
  "kernelspec": {
   "display_name": "Python [Root]",
   "language": "python",
   "name": "Python [Root]"
  },
  "language_info": {
   "codemirror_mode": {
    "name": "ipython",
    "version": 2
   },
   "file_extension": ".py",
   "mimetype": "text/x-python",
   "name": "python",
   "nbconvert_exporter": "python",
   "pygments_lexer": "ipython2",
   "version": "2.7.12"
  }
 },
 "nbformat": 4,
 "nbformat_minor": 0
}
